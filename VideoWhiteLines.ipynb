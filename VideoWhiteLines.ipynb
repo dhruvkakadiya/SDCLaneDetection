{
 "cells": [
  {
   "cell_type": "code",
   "execution_count": 1,
   "metadata": {
    "collapsed": false
   },
   "outputs": [
    {
     "name": "stdout",
     "output_type": "stream",
     "text": [
      "['cars1.jpg', 'challenge.png', 'HighwayBraking.jpg', 'solidWhiteCurve.jpg', 'solidWhiteRight.jpg', 'solidYellowCurve.jpg', 'solidYellowCurve2.jpg', 'solidYellowLeft.jpg', 'Traffic_Cropped_t800.jpg', 'whiteCarLaneSwitch.jpg', 'whiteMultiLanes.jpg']\n"
     ]
    }
   ],
   "source": [
    "# Importing some useful libarries\n",
    "import matplotlib.pyplot as plt\n",
    "import matplotlib.image as mpimg\n",
    "import numpy as np\n",
    "import cv2\n",
    "import math\n",
    "# Import everything needed to edit/save/watch video clips\n",
    "from moviepy.editor import VideoFileClip\n",
    "from IPython.display import HTML\n",
    "\n",
    "import os\n",
    "print os.listdir(\"test_images/\")\n",
    "%matplotlib inline"
   ]
  },
  {
   "cell_type": "code",
   "execution_count": 2,
   "metadata": {
    "collapsed": true
   },
   "outputs": [],
   "source": [
    "def process_image(image):\n",
    "    # TODO: put your pipeline here,\n",
    "    # you should return the final output (image with lines are drawn on lanes)\n",
    "    \n",
    "    # Reading in an image\n",
    "    #image = mpimg.imread('test_images/whiteCarLaneSwitch.jpg')\n",
    "    # Printing out some stats and plotting\n",
    "    #print('This image is: ', type(image) , 'With dimensions: ', image.shape)\n",
    "    #print plt.imshow(image)\n",
    "    h, w = image.shape[0], image.shape[1]\n",
    "    # Find ROI part\n",
    "    offsetX = h/2 + 50\n",
    "    ROI = image[offsetX:,:]\n",
    "    # converting to gray scale\n",
    "    gray = cv2.cvtColor(ROI, cv2.COLOR_BGR2GRAY)\n",
    "    #print plt.imshow(gray, cmap = 'gray')\n",
    "    \n",
    "    # remove noise\n",
    "    img = cv2.GaussianBlur(gray,(5,5),0)\n",
    "    #print plt.imshow(img, cmap = 'gray')\n",
    "\n",
    "    edges = cv2.Canny(img,150,150) #apertureSize = 3)\n",
    "    #print plt.imshow(edges, cmap = 'gray')\n",
    "\n",
    "    '''\n",
    "    minLineLength = 100\n",
    "    maxLineGap = 10\n",
    "    lines = cv2.HoughLinesP(edges,3,np.pi/180,100,minLineLength,maxLineGap)\n",
    "    #print (lines)\n",
    "    if(len(lines)):\n",
    "        for i in xrange(len(lines)):\n",
    "            for x1,y1,x2,y2 in lines[i]:\n",
    "                cv2.line(img,(x1,y1),(x2,y2),(255,0,0),7)\n",
    "    '''\n",
    "    \n",
    "    prevTheta = 0.0\n",
    "    lineColor = (255,192,203)\n",
    "    lineThickness = 5\n",
    "    curX1 = curY1 = curX2 = curY2 = 0\n",
    "    \n",
    "    lines = cv2.HoughLines(edges,1,np.pi/180,100)\n",
    "    if lines!=None:\n",
    "        for i in xrange(len(lines)):\n",
    "            for rho,theta in lines[i]:\n",
    "                if abs(theta-prevTheta)>1:\n",
    "                    a = np.cos(theta)\n",
    "                    b = np.sin(theta)\n",
    "                    x0 = a*rho\n",
    "                    y0 = b*rho\n",
    "                    x1 = int(x0 + 1000*(-b))\n",
    "                    y1 = int(y0 + 1000*(a))\n",
    "                    x2 = int(x0 - 1000*(-b))\n",
    "                    y2 = int(y0 - 1000*(a))\n",
    "                    if x2!=x1:\n",
    "                        m = (y2-y1)*1.0/(x2-x1)*1.0\n",
    "                        if m>0.5 or m<-0.5 :\n",
    "                            curX1, curY1, curX2, curY2 = x1, y1, x2, y2\n",
    "                            cv2.line(ROI, (curX1, curY1), (curX2, curY2), lineColor, lineThickness)\n",
    "                prevTheta = theta\n",
    "        \n",
    "    # Add edge detection part into original image\n",
    "    image[offsetX:,:] = ROI\n",
    "    #print plt.imshow(image)\n",
    "    return image"
   ]
  },
  {
   "cell_type": "code",
   "execution_count": 3,
   "metadata": {
    "collapsed": false
   },
   "outputs": [
    {
     "name": "stdout",
     "output_type": "stream",
     "text": [
      "[MoviePy] >>>> Building video white.mp4\n",
      "[MoviePy] Writing video white.mp4\n"
     ]
    },
    {
     "name": "stderr",
     "output_type": "stream",
     "text": [
      "100%|█████████▉| 221/222 [00:02<00:00, 85.72it/s]\n"
     ]
    },
    {
     "name": "stdout",
     "output_type": "stream",
     "text": [
      "[MoviePy] Done.\n",
      "[MoviePy] >>>> Video ready: white.mp4 \n",
      "\n",
      "CPU times: user 1.75 s, sys: 762 ms, total: 2.51 s\n",
      "Wall time: 2.89 s\n"
     ]
    }
   ],
   "source": [
    "white_output = 'white.mp4'\n",
    "clip1 = VideoFileClip(\"solidWhiteRight.mp4\")\n",
    "white_clip = clip1.fl_image(process_image)\n",
    "%time white_clip.write_videofile(white_output, audio=False)"
   ]
  },
  {
   "cell_type": "code",
   "execution_count": 4,
   "metadata": {
    "collapsed": false,
    "scrolled": true
   },
   "outputs": [
    {
     "name": "stdout",
     "output_type": "stream",
     "text": [
      "[MoviePy] >>>> Building video yellow.mp4\n",
      "[MoviePy] Writing video yellow.mp4\n"
     ]
    },
    {
     "name": "stderr",
     "output_type": "stream",
     "text": [
      "100%|█████████▉| 681/682 [00:07<00:00, 85.67it/s]\n"
     ]
    },
    {
     "name": "stdout",
     "output_type": "stream",
     "text": [
      "[MoviePy] Done.\n",
      "[MoviePy] >>>> Video ready: yellow.mp4 \n",
      "\n",
      "CPU times: user 5.45 s, sys: 2.26 s, total: 7.71 s\n",
      "Wall time: 8.35 s\n"
     ]
    }
   ],
   "source": [
    "yellow_output = 'yellow.mp4'\n",
    "clip2 = VideoFileClip('solidYellowLeft.mp4')\n",
    "yellow_clip = clip2.fl_image(process_image)\n",
    "%time yellow_clip.write_videofile(yellow_output, audio=False)"
   ]
  },
  {
   "cell_type": "code",
   "execution_count": 5,
   "metadata": {
    "collapsed": false
   },
   "outputs": [
    {
     "name": "stdout",
     "output_type": "stream",
     "text": [
      "[MoviePy] >>>> Building video challenge_output.mp4\n",
      "[MoviePy] Writing video challenge_output.mp4\n"
     ]
    },
    {
     "name": "stderr",
     "output_type": "stream",
     "text": [
      "100%|██████████| 251/251 [00:06<00:00, 39.04it/s]\n"
     ]
    },
    {
     "name": "stdout",
     "output_type": "stream",
     "text": [
      "[MoviePy] Done.\n",
      "[MoviePy] >>>> Video ready: challenge_output.mp4 \n",
      "\n",
      "CPU times: user 4.55 s, sys: 1.37 s, total: 5.92 s\n",
      "Wall time: 7.24 s\n"
     ]
    }
   ],
   "source": [
    "challenge_output = 'challenge_output.mp4'\n",
    "clip3 = VideoFileClip('challenge.mp4')\n",
    "challenge_clip = clip3.fl_image(process_image)\n",
    "%time challenge_clip.write_videofile(challenge_output, audio=False)"
   ]
  },
  {
   "cell_type": "code",
   "execution_count": 6,
   "metadata": {
    "collapsed": false
   },
   "outputs": [
    {
     "name": "stdout",
     "output_type": "stream",
     "text": [
      "[MoviePy] >>>> Building video Processed_SanJoseHighWay.mp4\n",
      "[MoviePy] Writing video Processed_SanJoseHighWay.mp4\n"
     ]
    },
    {
     "name": "stderr",
     "output_type": "stream",
     "text": [
      "100%|██████████| 1250/1250 [00:15<00:00, 79.41it/s]\n"
     ]
    },
    {
     "name": "stdout",
     "output_type": "stream",
     "text": [
      "[MoviePy] Done.\n",
      "[MoviePy] >>>> Video ready: Processed_SanJoseHighWay.mp4 \n",
      "\n",
      "CPU times: user 7.85 s, sys: 3.7 s, total: 11.5 s\n",
      "Wall time: 16.3 s\n"
     ]
    }
   ],
   "source": [
    "recorded_output = 'Processed_SanJoseHighWay.mp4'\n",
    "clip4 = VideoFileClip('SanJoseHighWay.mp4')\n",
    "recorded_clip = clip4.fl_image(process_image)\n",
    "%time recorded_clip.write_videofile(recorded_output, audio=False)"
   ]
  },
  {
   "cell_type": "code",
   "execution_count": null,
   "metadata": {
    "collapsed": true
   },
   "outputs": [],
   "source": []
  }
 ],
 "metadata": {
  "anaconda-cloud": {},
  "kernelspec": {
   "display_name": "Python [Root]",
   "language": "python",
   "name": "Python [Root]"
  },
  "language_info": {
   "codemirror_mode": {
    "name": "ipython",
    "version": 2
   },
   "file_extension": ".py",
   "mimetype": "text/x-python",
   "name": "python",
   "nbconvert_exporter": "python",
   "pygments_lexer": "ipython2",
   "version": "2.7.12"
  }
 },
 "nbformat": 4,
 "nbformat_minor": 0
}
