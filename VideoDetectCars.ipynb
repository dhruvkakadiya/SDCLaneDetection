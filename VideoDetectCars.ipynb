{
 "cells": [
  {
   "cell_type": "code",
   "execution_count": 1,
   "metadata": {
    "collapsed": false
   },
   "outputs": [
    {
     "name": "stdout",
     "output_type": "stream",
     "text": [
      "['cars1.jpg', 'solidWhiteCurve.jpg', 'solidWhiteRight.jpg', 'solidYellowCurve.jpg', 'solidYellowCurve2.jpg', 'solidYellowLeft.jpg', 'whiteCarLaneSwitch.jpg']\n"
     ]
    }
   ],
   "source": [
    "# Include required libraries\n",
    "import cv2\n",
    "import math\n",
    "import numpy as np\n",
    "import matplotlib.pyplot as plt\n",
    "import matplotlib.image as mpimg\n",
    "import os\n",
    "print os.listdir(\"test_images/\")\n",
    "%matplotlib inline"
   ]
  },
  {
   "cell_type": "code",
   "execution_count": 2,
   "metadata": {
    "collapsed": true
   },
   "outputs": [],
   "source": [
    "def diffUpDown(img):\n",
    "    # compare top and bottom size of the image\n",
    "    # 1. cut image in two\n",
    "    # 2. flip the top side\n",
    "    # 3. resize to same size\n",
    "    # 4. compare difference  \n",
    "    height, width, depth = img.shape\n",
    "    half = height/2\n",
    "    top = img[0:half, 0:width]\n",
    "    bottom = img[half:half+half, 0:width]\n",
    "    top = cv2.flip(top,1)\n",
    "    bottom = cv2.resize(bottom, (32, 64)) \n",
    "    top = cv2.resize(top, (32, 64))  \n",
    "    return ( mse(top,bottom) )\n",
    "\n",
    "def diffLeftRight(img):\n",
    "    # compare left and right size of the image\n",
    "    # 1. cut image in two\n",
    "    # 2. flip the right side\n",
    "    # 3. resize to same size\n",
    "    # 4. compare difference  \n",
    "    height, width, depth = img.shape\n",
    "    half = width/2\n",
    "    left = img[0:height, 0:half]\n",
    "    right = img[0:height, half:half + half-1]\n",
    "    right = cv2.flip(right,1)\n",
    "    left = cv2.resize(left, (32, 64)) \n",
    "    right = cv2.resize(right, (32, 64))  \n",
    "    return ( mse(left,right) )\n",
    "\n",
    "\n",
    "def mse(imageA, imageB):\n",
    "    err = np.sum((imageA.astype(\"float\") - imageB.astype(\"float\")) ** 2)\n",
    "    err /= float(imageA.shape[0] * imageA.shape[1])\n",
    "    return err\n",
    "\n",
    "def isNewRoi(rx,ry,rw,rh,rectangles):\n",
    "    for r in rectangles:\n",
    "        if abs(r[0] - rx) < 40 and abs(r[1] - ry) < 40:\n",
    "           return False  \n",
    "    return True\n",
    "\n",
    "def detectRegionsOfInterest(frame, cascade):\n",
    "    scaleDown = 2\n",
    "    frameHeight, frameWidth, fdepth = frame.shape \n",
    "\n",
    "    # Resize\n",
    "    frame = cv2.resize(frame, (frameWidth/scaleDown, frameHeight/scaleDown)) \n",
    "    frameHeight, frameWidth, fdepth = frame.shape \n",
    " \n",
    "    # haar detection.\n",
    "    cars = cascade.detectMultiScale(frame, 1.2, 1)\n",
    " \n",
    "    newRegions = []\n",
    "    minY = int(frameHeight*0.3)\n",
    "\n",
    "    # iterate regions of interest\n",
    "    for (x,y,w,h) in cars:\n",
    "            roi = [x,y,w,h]\n",
    "            roiImage = frame[y:y+h, x:x+w]   \n",
    "\n",
    "            carWidth = roiImage.shape[0]\n",
    "            if y > minY:\n",
    "                diffX = diffLeftRight(roiImage)\n",
    "                diffY = round(diffUpDown(roiImage))\n",
    "\n",
    "                if diffX > 1600 and diffX < 3000 and diffY > 12000:\n",
    "                    rx,ry,rw,rh = roi\n",
    "                    newRegions.append( [rx*scaleDown,ry*scaleDown,rw*scaleDown,rh*scaleDown] )\n",
    "\n",
    "    return newRegions\n"
   ]
  },
  {
   "cell_type": "code",
   "execution_count": 3,
   "metadata": {
    "collapsed": true
   },
   "outputs": [],
   "source": [
    "def detectCars(filename):\n",
    "    rectangles = []\n",
    "    cascade = cv2.CascadeClassifier('cars.xml')\n",
    "    vc = cv2.VideoCapture(filename)\n",
    " \n",
    "    if vc.isOpened():\n",
    "        rval , frame = vc.read()\n",
    "    else:\n",
    "        rval = False\n",
    " \n",
    "    roi = [0,0,0,0]\n",
    "    frameCount = 0\n",
    " \n",
    "    while rval:\n",
    "        rval, frame = vc.read()\n",
    "        frameHeight, frameWidth, fdepth = frame.shape \n",
    "                        \n",
    "        newRegions = detectRegionsOfInterest(frame, cascade)\n",
    "        for region in newRegions:\n",
    "            if isNewRoi(region[0],region[1],region[2],region[3],rectangles):\n",
    "                rectangles.append(region)\n",
    "\n",
    "        for r in rectangles:\n",
    "            cv2.rectangle(frame,(r[0],r[1]),(r[0]+r[2],r[1]+r[3]),(0,0,255),3) \n",
    "\n",
    "        frameCount = frameCount + 1\n",
    "        if frameCount > 30: \n",
    "            frameCount = 0\n",
    "            rectangles = []\n",
    "\n",
    "        # show result\n",
    "        cv2.imshow(\"Result\",frame)\n",
    "        cv2.waitKey(1);\n",
    "    vc.release()"
   ]
  },
  {
   "cell_type": "code",
   "execution_count": 4,
   "metadata": {
    "collapsed": false
   },
   "outputs": [
    {
     "ename": "AttributeError",
     "evalue": "'NoneType' object has no attribute 'shape'",
     "output_type": "error",
     "traceback": [
      "\u001b[0;31m---------------------------------------------------------------------------\u001b[0m",
      "\u001b[0;31mAttributeError\u001b[0m                            Traceback (most recent call last)",
      "\u001b[0;32m<ipython-input-4-a93f756d2acd>\u001b[0m in \u001b[0;36m<module>\u001b[0;34m()\u001b[0m\n\u001b[1;32m      1\u001b[0m \u001b[0;31m# Detect cars from a given video\u001b[0m\u001b[0;34m\u001b[0m\u001b[0;34m\u001b[0m\u001b[0m\n\u001b[0;32m----> 2\u001b[0;31m \u001b[0mdetectCars\u001b[0m\u001b[0;34m(\u001b[0m\u001b[0;34m'detectCars1.mp4'\u001b[0m\u001b[0;34m)\u001b[0m\u001b[0;34m\u001b[0m\u001b[0m\n\u001b[0m",
      "\u001b[0;32m<ipython-input-3-4a648b22ccf8>\u001b[0m in \u001b[0;36mdetectCars\u001b[0;34m(filename)\u001b[0m\n\u001b[1;32m     14\u001b[0m     \u001b[0;32mwhile\u001b[0m \u001b[0mrval\u001b[0m\u001b[0;34m:\u001b[0m\u001b[0;34m\u001b[0m\u001b[0m\n\u001b[1;32m     15\u001b[0m         \u001b[0mrval\u001b[0m\u001b[0;34m,\u001b[0m \u001b[0mframe\u001b[0m \u001b[0;34m=\u001b[0m \u001b[0mvc\u001b[0m\u001b[0;34m.\u001b[0m\u001b[0mread\u001b[0m\u001b[0;34m(\u001b[0m\u001b[0;34m)\u001b[0m\u001b[0;34m\u001b[0m\u001b[0m\n\u001b[0;32m---> 16\u001b[0;31m         \u001b[0mframeHeight\u001b[0m\u001b[0;34m,\u001b[0m \u001b[0mframeWidth\u001b[0m\u001b[0;34m,\u001b[0m \u001b[0mfdepth\u001b[0m \u001b[0;34m=\u001b[0m \u001b[0mframe\u001b[0m\u001b[0;34m.\u001b[0m\u001b[0mshape\u001b[0m\u001b[0;34m\u001b[0m\u001b[0m\n\u001b[0m\u001b[1;32m     17\u001b[0m \u001b[0;34m\u001b[0m\u001b[0m\n\u001b[1;32m     18\u001b[0m         \u001b[0mnewRegions\u001b[0m \u001b[0;34m=\u001b[0m \u001b[0mdetectRegionsOfInterest\u001b[0m\u001b[0;34m(\u001b[0m\u001b[0mframe\u001b[0m\u001b[0;34m,\u001b[0m \u001b[0mcascade\u001b[0m\u001b[0;34m)\u001b[0m\u001b[0;34m\u001b[0m\u001b[0m\n",
      "\u001b[0;31mAttributeError\u001b[0m: 'NoneType' object has no attribute 'shape'"
     ]
    }
   ],
   "source": [
    "# Detect cars from a given video\n",
    "detectCars('detectCars1.mp4')"
   ]
  },
  {
   "cell_type": "code",
   "execution_count": null,
   "metadata": {
    "collapsed": true
   },
   "outputs": [],
   "source": []
  }
 ],
 "metadata": {
  "kernelspec": {
   "display_name": "Python [Root]",
   "language": "python",
   "name": "Python [Root]"
  },
  "language_info": {
   "codemirror_mode": {
    "name": "ipython",
    "version": 2
   },
   "file_extension": ".py",
   "mimetype": "text/x-python",
   "name": "python",
   "nbconvert_exporter": "python",
   "pygments_lexer": "ipython2",
   "version": "2.7.12"
  }
 },
 "nbformat": 4,
 "nbformat_minor": 0
}
